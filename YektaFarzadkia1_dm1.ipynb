{
 "cells": [
  {
   "cell_type": "code",
   "execution_count": 1,
   "id": "12c834ab-992a-4b8e-8e62-c2d1abaa9ed1",
   "metadata": {},
   "outputs": [],
   "source": [
    "import pandas as pd\n",
    "import numpy as np"
   ]
  },
  {
   "cell_type": "code",
   "execution_count": 2,
   "id": "00de26b0-e698-4da1-b7a9-2285ce089b8a",
   "metadata": {},
   "outputs": [],
   "source": [
    "df = pd.read_csv(r'C:\\Users\\Yekta\\Desktop\\rco\\rice.csv')"
   ]
  },
  {
   "cell_type": "code",
   "execution_count": 3,
   "id": "434f8563-abd9-4621-a454-38079849fc3f",
   "metadata": {},
   "outputs": [
    {
     "data": {
      "text/html": [
       "<div>\n",
       "<style scoped>\n",
       "    .dataframe tbody tr th:only-of-type {\n",
       "        vertical-align: middle;\n",
       "    }\n",
       "\n",
       "    .dataframe tbody tr th {\n",
       "        vertical-align: top;\n",
       "    }\n",
       "\n",
       "    .dataframe thead th {\n",
       "        text-align: right;\n",
       "    }\n",
       "</style>\n",
       "<table border=\"1\" class=\"dataframe\">\n",
       "  <thead>\n",
       "    <tr style=\"text-align: right;\">\n",
       "      <th></th>\n",
       "      <th>Area</th>\n",
       "      <th>Perimeter</th>\n",
       "      <th>Major_Axis_Length</th>\n",
       "      <th>Minor_Axis_Length</th>\n",
       "      <th>Eccentricity</th>\n",
       "      <th>Convex_Area</th>\n",
       "      <th>Extent</th>\n",
       "      <th>Class</th>\n",
       "    </tr>\n",
       "  </thead>\n",
       "  <tbody>\n",
       "    <tr>\n",
       "      <th>0</th>\n",
       "      <td>7551</td>\n",
       "      <td>369.063995</td>\n",
       "      <td>163.408829</td>\n",
       "      <td>59.53240585</td>\n",
       "      <td>0.931275</td>\n",
       "      <td>7723</td>\n",
       "      <td>0.756462</td>\n",
       "      <td>Osmancik</td>\n",
       "    </tr>\n",
       "    <tr>\n",
       "      <th>1</th>\n",
       "      <td>8546</td>\n",
       "      <td>388.580994</td>\n",
       "      <td>172.519959</td>\n",
       "      <td>63.34475327</td>\n",
       "      <td>0.930152</td>\n",
       "      <td>8685</td>\n",
       "      <td>0.735456</td>\n",
       "      <td>Osmancik</td>\n",
       "    </tr>\n",
       "    <tr>\n",
       "      <th>2</th>\n",
       "      <td>7833</td>\n",
       "      <td>373.157013</td>\n",
       "      <td>162.516434</td>\n",
       "      <td>63.56500244</td>\n",
       "      <td>0.920336</td>\n",
       "      <td>8015</td>\n",
       "      <td>0.769752</td>\n",
       "      <td>Osmancik</td>\n",
       "    </tr>\n",
       "    <tr>\n",
       "      <th>3</th>\n",
       "      <td>9292</td>\n",
       "      <td>414.118988</td>\n",
       "      <td>183.639710</td>\n",
       "      <td>64.87107086</td>\n",
       "      <td>0.935528</td>\n",
       "      <td>9442</td>\n",
       "      <td>0.501078</td>\n",
       "      <td>Osmancik</td>\n",
       "    </tr>\n",
       "    <tr>\n",
       "      <th>4</th>\n",
       "      <td>7943</td>\n",
       "      <td>362.673004</td>\n",
       "      <td>154.886322</td>\n",
       "      <td>65.93088531</td>\n",
       "      <td>0.904877</td>\n",
       "      <td>8080</td>\n",
       "      <td>0.608659</td>\n",
       "      <td>Osmancik</td>\n",
       "    </tr>\n",
       "    <tr>\n",
       "      <th>5</th>\n",
       "      <td>9414</td>\n",
       "      <td>407.825012</td>\n",
       "      <td>179.545883</td>\n",
       "      <td>66.91815948</td>\n",
       "      <td>0.927949</td>\n",
       "      <td>9583</td>\n",
       "      <td>0.810434</td>\n",
       "      <td>Osmancik</td>\n",
       "    </tr>\n",
       "    <tr>\n",
       "      <th>6</th>\n",
       "      <td>9908</td>\n",
       "      <td>432.769012</td>\n",
       "      <td>188.187683</td>\n",
       "      <td>67.69534302</td>\n",
       "      <td>0.933059</td>\n",
       "      <td>10205</td>\n",
       "      <td>0.611680</td>\n",
       "      <td>Cammeo</td>\n",
       "    </tr>\n",
       "    <tr>\n",
       "      <th>7</th>\n",
       "      <td>8709</td>\n",
       "      <td>383.527008</td>\n",
       "      <td>164.193893</td>\n",
       "      <td>67.93288422</td>\n",
       "      <td>0.910397</td>\n",
       "      <td>8873</td>\n",
       "      <td>0.767989</td>\n",
       "      <td>Osmancik</td>\n",
       "    </tr>\n",
       "    <tr>\n",
       "      <th>8</th>\n",
       "      <td>9426</td>\n",
       "      <td>402.709992</td>\n",
       "      <td>175.974289</td>\n",
       "      <td>68.60753632</td>\n",
       "      <td>0.920869</td>\n",
       "      <td>9578</td>\n",
       "      <td>0.577432</td>\n",
       "      <td>Osmancik</td>\n",
       "    </tr>\n",
       "    <tr>\n",
       "      <th>9</th>\n",
       "      <td>9273</td>\n",
       "      <td>406.402008</td>\n",
       "      <td>173.414093</td>\n",
       "      <td>68.80253601</td>\n",
       "      <td>0.917925</td>\n",
       "      <td>9445</td>\n",
       "      <td>0.530098</td>\n",
       "      <td>Osmancik</td>\n",
       "    </tr>\n",
       "  </tbody>\n",
       "</table>\n",
       "</div>"
      ],
      "text/plain": [
       "   Area   Perimeter  Major_Axis_Length Minor_Axis_Length  Eccentricity  \\\n",
       "0  7551  369.063995         163.408829       59.53240585      0.931275   \n",
       "1  8546  388.580994         172.519959       63.34475327      0.930152   \n",
       "2  7833  373.157013         162.516434       63.56500244      0.920336   \n",
       "3  9292  414.118988         183.639710       64.87107086      0.935528   \n",
       "4  7943  362.673004         154.886322       65.93088531      0.904877   \n",
       "5  9414  407.825012         179.545883       66.91815948      0.927949   \n",
       "6  9908  432.769012         188.187683       67.69534302      0.933059   \n",
       "7  8709  383.527008         164.193893       67.93288422      0.910397   \n",
       "8  9426  402.709992         175.974289       68.60753632      0.920869   \n",
       "9  9273  406.402008         173.414093       68.80253601      0.917925   \n",
       "\n",
       "  Convex_Area    Extent     Class  \n",
       "0        7723  0.756462  Osmancik  \n",
       "1        8685  0.735456  Osmancik  \n",
       "2        8015  0.769752  Osmancik  \n",
       "3        9442  0.501078  Osmancik  \n",
       "4        8080  0.608659  Osmancik  \n",
       "5        9583  0.810434  Osmancik  \n",
       "6       10205  0.611680    Cammeo  \n",
       "7        8873  0.767989  Osmancik  \n",
       "8        9578  0.577432  Osmancik  \n",
       "9        9445  0.530098  Osmancik  "
      ]
     },
     "execution_count": 3,
     "metadata": {},
     "output_type": "execute_result"
    }
   ],
   "source": [
    "df.head(10)"
   ]
  },
  {
   "cell_type": "code",
   "execution_count": 4,
   "id": "d2b3e0c3-d0a6-4283-9f60-ba0cc38ade94",
   "metadata": {
    "scrolled": true
   },
   "outputs": [
    {
     "data": {
      "text/html": [
       "<div>\n",
       "<style scoped>\n",
       "    .dataframe tbody tr th:only-of-type {\n",
       "        vertical-align: middle;\n",
       "    }\n",
       "\n",
       "    .dataframe tbody tr th {\n",
       "        vertical-align: top;\n",
       "    }\n",
       "\n",
       "    .dataframe thead th {\n",
       "        text-align: right;\n",
       "    }\n",
       "</style>\n",
       "<table border=\"1\" class=\"dataframe\">\n",
       "  <thead>\n",
       "    <tr style=\"text-align: right;\">\n",
       "      <th></th>\n",
       "      <th>Area</th>\n",
       "      <th>Perimeter</th>\n",
       "      <th>Major_Axis_Length</th>\n",
       "      <th>Minor_Axis_Length</th>\n",
       "      <th>Eccentricity</th>\n",
       "      <th>Convex_Area</th>\n",
       "      <th>Extent</th>\n",
       "      <th>Class</th>\n",
       "    </tr>\n",
       "  </thead>\n",
       "  <tbody>\n",
       "    <tr>\n",
       "      <th>3817</th>\n",
       "      <td>9751</td>\n",
       "      <td>412.597992</td>\n",
       "      <td>175.450638</td>\n",
       "      <td>71.44275665</td>\n",
       "      <td>0.913341</td>\n",
       "      <td>10034</td>\n",
       "      <td>0.714359</td>\n",
       "      <td>Osmancik</td>\n",
       "    </tr>\n",
       "    <tr>\n",
       "      <th>3818</th>\n",
       "      <td>9802</td>\n",
       "      <td>412.368988</td>\n",
       "      <td>176.165573</td>\n",
       "      <td>71.48280334</td>\n",
       "      <td>0.913975</td>\n",
       "      <td>9991</td>\n",
       "      <td>0.566950</td>\n",
       "      <td>Osmancik</td>\n",
       "    </tr>\n",
       "    <tr>\n",
       "      <th>3819</th>\n",
       "      <td>8501</td>\n",
       "      <td>371.024994</td>\n",
       "      <td>153.896255</td>\n",
       "      <td>71.51190948</td>\n",
       "      <td>0.885481</td>\n",
       "      <td>8738</td>\n",
       "      <td>0.639846</td>\n",
       "      <td>Osmancik</td>\n",
       "    </tr>\n",
       "    <tr>\n",
       "      <th>3820</th>\n",
       "      <td>8850</td>\n",
       "      <td>381.433990</td>\n",
       "      <td>159.251205</td>\n",
       "      <td>71.76094818</td>\n",
       "      <td>0.892718</td>\n",
       "      <td>9063</td>\n",
       "      <td>0.572519</td>\n",
       "      <td>Osmancik</td>\n",
       "    </tr>\n",
       "    <tr>\n",
       "      <th>3821</th>\n",
       "      <td>10713</td>\n",
       "      <td>443.403992</td>\n",
       "      <td>192.886185</td>\n",
       "      <td>71.78689575</td>\n",
       "      <td>0.928164</td>\n",
       "      <td>10969</td>\n",
       "      <td>0.696101</td>\n",
       "      <td>Osmancik</td>\n",
       "    </tr>\n",
       "    <tr>\n",
       "      <th>3822</th>\n",
       "      <td>10151</td>\n",
       "      <td>420.899994</td>\n",
       "      <td>181.995575</td>\n",
       "      <td>72.09951019</td>\n",
       "      <td>0.918181</td>\n",
       "      <td>10407</td>\n",
       "      <td>0.521634</td>\n",
       "      <td>Osmancik</td>\n",
       "    </tr>\n",
       "    <tr>\n",
       "      <th>3823</th>\n",
       "      <td>10222</td>\n",
       "      <td>423.497009</td>\n",
       "      <td>182.800247</td>\n",
       "      <td>72.1242981</td>\n",
       "      <td>0.918873</td>\n",
       "      <td>10421</td>\n",
       "      <td>0.820385</td>\n",
       "      <td>Osmancik</td>\n",
       "    </tr>\n",
       "    <tr>\n",
       "      <th>3824</th>\n",
       "      <td>9216</td>\n",
       "      <td>384.342011</td>\n",
       "      <td>163.291626</td>\n",
       "      <td>72.26079559</td>\n",
       "      <td>0.896756</td>\n",
       "      <td>9352</td>\n",
       "      <td>0.624771</td>\n",
       "      <td>Osmancik</td>\n",
       "    </tr>\n",
       "    <tr>\n",
       "      <th>3825</th>\n",
       "      <td>11377</td>\n",
       "      <td>452.407989</td>\n",
       "      <td>201.306259</td>\n",
       "      <td>72.28141785</td>\n",
       "      <td>0.933314</td>\n",
       "      <td>11555</td>\n",
       "      <td>0.525545</td>\n",
       "      <td>Cammeo</td>\n",
       "    </tr>\n",
       "    <tr>\n",
       "      <th>3826</th>\n",
       "      <td>9598</td>\n",
       "      <td>397.000000</td>\n",
       "      <td>172.006790</td>\n",
       "      <td>72.28364563</td>\n",
       "      <td>0.907414</td>\n",
       "      <td>9766</td>\n",
       "      <td>0.796845</td>\n",
       "      <td>Osmancik</td>\n",
       "    </tr>\n",
       "  </tbody>\n",
       "</table>\n",
       "</div>"
      ],
      "text/plain": [
       "       Area   Perimeter  Major_Axis_Length Minor_Axis_Length  Eccentricity  \\\n",
       "3817   9751  412.597992         175.450638       71.44275665      0.913341   \n",
       "3818   9802  412.368988         176.165573       71.48280334      0.913975   \n",
       "3819   8501  371.024994         153.896255       71.51190948      0.885481   \n",
       "3820   8850  381.433990         159.251205       71.76094818      0.892718   \n",
       "3821  10713  443.403992         192.886185       71.78689575      0.928164   \n",
       "3822  10151  420.899994         181.995575       72.09951019      0.918181   \n",
       "3823  10222  423.497009         182.800247        72.1242981      0.918873   \n",
       "3824   9216  384.342011         163.291626       72.26079559      0.896756   \n",
       "3825  11377  452.407989         201.306259       72.28141785      0.933314   \n",
       "3826   9598  397.000000         172.006790       72.28364563      0.907414   \n",
       "\n",
       "     Convex_Area    Extent     Class  \n",
       "3817       10034  0.714359  Osmancik  \n",
       "3818        9991  0.566950  Osmancik  \n",
       "3819        8738  0.639846  Osmancik  \n",
       "3820        9063  0.572519  Osmancik  \n",
       "3821       10969  0.696101  Osmancik  \n",
       "3822       10407  0.521634  Osmancik  \n",
       "3823       10421  0.820385  Osmancik  \n",
       "3824        9352  0.624771  Osmancik  \n",
       "3825       11555  0.525545    Cammeo  \n",
       "3826        9766  0.796845  Osmancik  "
      ]
     },
     "execution_count": 4,
     "metadata": {},
     "output_type": "execute_result"
    }
   ],
   "source": [
    "df.tail(10)"
   ]
  },
  {
   "cell_type": "code",
   "execution_count": 5,
   "id": "8a2d7427-8123-4bbf-856d-c42cd4112e4e",
   "metadata": {},
   "outputs": [
    {
     "data": {
      "text/plain": [
       "Area                  object\n",
       "Perimeter            float64\n",
       "Major_Axis_Length    float64\n",
       "Minor_Axis_Length     object\n",
       "Eccentricity         float64\n",
       "Convex_Area           object\n",
       "Extent               float64\n",
       "Class                 object\n",
       "dtype: object"
      ]
     },
     "execution_count": 5,
     "metadata": {},
     "output_type": "execute_result"
    }
   ],
   "source": [
    "df.dtypes"
   ]
  },
  {
   "cell_type": "code",
   "execution_count": 6,
   "id": "2eb1bf89-448f-4955-80a8-59178cbf9014",
   "metadata": {},
   "outputs": [],
   "source": [
    "df = df.drop_duplicates()"
   ]
  },
  {
   "cell_type": "code",
   "execution_count": 7,
   "id": "7f581706-15d1-468c-969c-36e8b3d795d5",
   "metadata": {},
   "outputs": [],
   "source": [
    "df.dropna(subset=['Area'],inplace=True)"
   ]
  },
  {
   "cell_type": "code",
   "execution_count": 8,
   "id": "72a50293-edbc-4f4c-8b9b-c403df55fd23",
   "metadata": {},
   "outputs": [],
   "source": [
    "df.dropna(subset=['Perimeter'],inplace=True)"
   ]
  },
  {
   "cell_type": "code",
   "execution_count": 9,
   "id": "a392f7dd-1fa2-4d33-87b8-3c39c5b36a06",
   "metadata": {},
   "outputs": [],
   "source": [
    "df.dropna(subset=['Major_Axis_Length'],inplace=True)"
   ]
  },
  {
   "cell_type": "code",
   "execution_count": 10,
   "id": "637192fa-7c5b-4400-9057-683d73b2b048",
   "metadata": {},
   "outputs": [],
   "source": [
    "df.dropna(subset=['Minor_Axis_Length'],inplace=True)"
   ]
  },
  {
   "cell_type": "code",
   "execution_count": 11,
   "id": "00ed8e78-24a5-4f6f-a764-2f13ebc6317d",
   "metadata": {},
   "outputs": [],
   "source": [
    "df.dropna(subset=['Eccentricity'],inplace=True)"
   ]
  },
  {
   "cell_type": "code",
   "execution_count": 12,
   "id": "eb7029a5-a1c1-4073-aa56-705f419b5761",
   "metadata": {},
   "outputs": [],
   "source": [
    "df.dropna(subset=['Convex_Area'],inplace=True)"
   ]
  },
  {
   "cell_type": "code",
   "execution_count": 13,
   "id": "05be6350-919d-4665-bdcf-6ca99d95a126",
   "metadata": {},
   "outputs": [],
   "source": [
    "df.dropna(subset=['Extent'],inplace=True)"
   ]
  },
  {
   "cell_type": "code",
   "execution_count": 14,
   "id": "be229dfb-f6a3-4738-b9cb-78a594344d80",
   "metadata": {},
   "outputs": [],
   "source": [
    "df.dropna(subset=['Class'],inplace=True)"
   ]
  },
  {
   "cell_type": "code",
   "execution_count": 15,
   "id": "331b3043-f3a8-4fea-902d-9a51d9b545aa",
   "metadata": {},
   "outputs": [],
   "source": [
    "df = df.drop(df[df['Area'] == '???'].index)"
   ]
  },
  {
   "cell_type": "code",
   "execution_count": 16,
   "id": "b91f2cbe-5bbc-4a25-bda2-f8eaab1210d3",
   "metadata": {},
   "outputs": [],
   "source": [
    "df = df.drop(df[df['Perimeter'] == '???'].index)"
   ]
  },
  {
   "cell_type": "code",
   "execution_count": 17,
   "id": "4e61e35a-f651-422c-8367-8eac30fda8a1",
   "metadata": {},
   "outputs": [],
   "source": [
    "df = df.drop(df[df['Major_Axis_Length'] == '???'].index)"
   ]
  },
  {
   "cell_type": "code",
   "execution_count": 18,
   "id": "5db03564-92fa-4262-9a86-25bcc3c7e06c",
   "metadata": {},
   "outputs": [],
   "source": [
    "df = df.drop(df[df['Minor_Axis_Length'] == '???'].index)"
   ]
  },
  {
   "cell_type": "code",
   "execution_count": 19,
   "id": "4baf2ee6-9244-43f4-af8c-ef2e0fe96289",
   "metadata": {},
   "outputs": [],
   "source": [
    "df = df.drop(df[df['Eccentricity'] == '???'].index)"
   ]
  },
  {
   "cell_type": "code",
   "execution_count": 20,
   "id": "d6a34872-9005-46e1-b7ef-34aa028da852",
   "metadata": {},
   "outputs": [],
   "source": [
    "df = df.drop(df[df['Convex_Area'] == '???'].index)"
   ]
  },
  {
   "cell_type": "code",
   "execution_count": 21,
   "id": "82bd824d-a200-4278-ac51-e5dc2b651304",
   "metadata": {},
   "outputs": [],
   "source": [
    "df = df.drop(df[df['Extent'] == '???'].index)"
   ]
  },
  {
   "cell_type": "code",
   "execution_count": 22,
   "id": "6622989d-e047-4755-a3ea-3903ab8d3363",
   "metadata": {},
   "outputs": [],
   "source": [
    "df = df.drop(df[df['Class'] == '???'].index)"
   ]
  },
  {
   "cell_type": "code",
   "execution_count": 23,
   "id": "5b9a0756-6522-431e-8fa8-528c44052731",
   "metadata": {},
   "outputs": [],
   "source": [
    "df['Area'] = df['Area'].astype('float64')"
   ]
  },
  {
   "cell_type": "code",
   "execution_count": 24,
   "id": "563d5984-16ae-4051-8c28-6eb585954e7c",
   "metadata": {},
   "outputs": [],
   "source": [
    "df['Perimeter'] = df['Perimeter'].astype('float64')"
   ]
  },
  {
   "cell_type": "code",
   "execution_count": 25,
   "id": "3299aacc-07a1-4fdf-b0a1-bae38d6c9cad",
   "metadata": {},
   "outputs": [],
   "source": [
    "df['Major_Axis_Length'] = df['Major_Axis_Length'].astype('float64')"
   ]
  },
  {
   "cell_type": "code",
   "execution_count": 26,
   "id": "e7512047-8cfb-4df2-8b4f-5232c69e155f",
   "metadata": {},
   "outputs": [],
   "source": [
    "df['Minor_Axis_Length'] = df['Minor_Axis_Length'].astype('float64')"
   ]
  },
  {
   "cell_type": "code",
   "execution_count": 27,
   "id": "495d3777-b656-4e83-8a40-c5f789f192fd",
   "metadata": {},
   "outputs": [],
   "source": [
    "df['Eccentricity'] = df['Eccentricity'].astype('float64')"
   ]
  },
  {
   "cell_type": "code",
   "execution_count": 28,
   "id": "3fe76eef-e95f-4d62-87c1-465ba54992d6",
   "metadata": {},
   "outputs": [],
   "source": [
    "df['Convex_Area'] = df['Convex_Area'].astype('float64')"
   ]
  },
  {
   "cell_type": "code",
   "execution_count": 29,
   "id": "be64c182-ba83-4e2d-8cac-b5846c5bbc33",
   "metadata": {},
   "outputs": [],
   "source": [
    "df['Extent'] = df['Extent'].astype('float64')"
   ]
  },
  {
   "cell_type": "code",
   "execution_count": 30,
   "id": "6ea6d665-13c2-40a6-b175-c7ef11e186d0",
   "metadata": {},
   "outputs": [
    {
     "data": {
      "text/plain": [
       "7551.0"
      ]
     },
     "execution_count": 30,
     "metadata": {},
     "output_type": "execute_result"
    }
   ],
   "source": [
    "df['Area'].min()"
   ]
  },
  {
   "cell_type": "code",
   "execution_count": 31,
   "id": "2618233f-cbfb-4b6e-a94b-5efb6051bd7b",
   "metadata": {},
   "outputs": [
    {
     "data": {
      "text/plain": [
       "18913.0"
      ]
     },
     "execution_count": 31,
     "metadata": {},
     "output_type": "execute_result"
    }
   ],
   "source": [
    "df['Area'].max()"
   ]
  },
  {
   "cell_type": "code",
   "execution_count": 32,
   "id": "f1ab8222-460a-4377-9931-f5cb4bfa95e5",
   "metadata": {},
   "outputs": [
    {
     "data": {
      "text/plain": [
       "359.1000061"
      ]
     },
     "execution_count": 32,
     "metadata": {},
     "output_type": "execute_result"
    }
   ],
   "source": [
    "df['Perimeter'].min()"
   ]
  },
  {
   "cell_type": "code",
   "execution_count": 33,
   "id": "2cdfaea1-9013-4dc4-97f4-36c6675588a4",
   "metadata": {},
   "outputs": [
    {
     "data": {
      "text/plain": [
       "548.4459839"
      ]
     },
     "execution_count": 33,
     "metadata": {},
     "output_type": "execute_result"
    }
   ],
   "source": [
    "df['Perimeter'].max()"
   ]
  },
  {
   "cell_type": "code",
   "execution_count": 34,
   "id": "08fd6a44-6a56-4212-b99d-35aa6d0338a1",
   "metadata": {},
   "outputs": [
    {
     "data": {
      "text/plain": [
       "145.2644653"
      ]
     },
     "execution_count": 34,
     "metadata": {},
     "output_type": "execute_result"
    }
   ],
   "source": [
    "df['Major_Axis_Length'].min()"
   ]
  },
  {
   "cell_type": "code",
   "execution_count": 35,
   "id": "8ea290d9-4b8d-4f76-ba8e-46427e5e3b4c",
   "metadata": {},
   "outputs": [
    {
     "data": {
      "text/plain": [
       "239.010498"
      ]
     },
     "execution_count": 35,
     "metadata": {},
     "output_type": "execute_result"
    }
   ],
   "source": [
    "df['Major_Axis_Length'].max()"
   ]
  },
  {
   "cell_type": "code",
   "execution_count": 36,
   "id": "4899a424-ad16-4295-bd7e-11fe0311495f",
   "metadata": {},
   "outputs": [
    {
     "data": {
      "text/plain": [
       "0.777232587"
      ]
     },
     "execution_count": 36,
     "metadata": {},
     "output_type": "execute_result"
    }
   ],
   "source": [
    "df['Eccentricity'].min()"
   ]
  },
  {
   "cell_type": "code",
   "execution_count": 37,
   "id": "503f9859-9766-4125-b720-2462b4ee1c24",
   "metadata": {},
   "outputs": [
    {
     "data": {
      "text/plain": [
       "0.948006928"
      ]
     },
     "execution_count": 37,
     "metadata": {},
     "output_type": "execute_result"
    }
   ],
   "source": [
    "df['Eccentricity'].max()"
   ]
  },
  {
   "cell_type": "code",
   "execution_count": 38,
   "id": "42849ba4-4069-4615-adfc-70478abce31f",
   "metadata": {},
   "outputs": [
    {
     "data": {
      "text/plain": [
       "0.49741286"
      ]
     },
     "execution_count": 38,
     "metadata": {},
     "output_type": "execute_result"
    }
   ],
   "source": [
    "df['Extent'].min()"
   ]
  },
  {
   "cell_type": "code",
   "execution_count": 39,
   "id": "4eafbaf0-a881-47c0-bbc0-f306425bbccc",
   "metadata": {},
   "outputs": [
    {
     "data": {
      "text/plain": [
       "0.861049533"
      ]
     },
     "execution_count": 39,
     "metadata": {},
     "output_type": "execute_result"
    }
   ],
   "source": [
    "df['Extent'].max()"
   ]
  },
  {
   "cell_type": "code",
   "execution_count": 40,
   "id": "60a31f41-70a1-41e2-abb8-85dcab5b6608",
   "metadata": {},
   "outputs": [
    {
     "data": {
      "text/plain": [
       "(3800, 8)"
      ]
     },
     "execution_count": 40,
     "metadata": {},
     "output_type": "execute_result"
    }
   ],
   "source": [
    "df.shape"
   ]
  },
  {
   "cell_type": "code",
   "execution_count": 41,
   "id": "a53ac1b3-8c22-4d54-bfe7-0c81418858b8",
   "metadata": {},
   "outputs": [
    {
     "name": "stdout",
     "output_type": "stream",
     "text": [
      "12672.520789473685\n"
     ]
    }
   ],
   "source": [
    " Area_mean = df['Area'].mean()\n",
    "print(Area_mean)"
   ]
  },
  {
   "cell_type": "code",
   "execution_count": 42,
   "id": "9e249d6f-d319-450d-8249-cb1664763fb6",
   "metadata": {},
   "outputs": [
    {
     "name": "stdout",
     "output_type": "stream",
     "text": [
      "454.3335540445526\n"
     ]
    }
   ],
   "source": [
    "Perimeter_mean = df['Perimeter'].mean()\n",
    "print(Perimeter_mean)"
   ]
  },
  {
   "cell_type": "code",
   "execution_count": 43,
   "id": "84393676-c2e7-45ee-87ae-410b2c4e0146",
   "metadata": {},
   "outputs": [
    {
     "name": "stdout",
     "output_type": "stream",
     "text": [
      "188.81800513434212\n"
     ]
    }
   ],
   "source": [
    "Major_Axis_Length_mean = df['Major_Axis_Length'].mean()\n",
    "print(Major_Axis_Length_mean)"
   ]
  },
  {
   "cell_type": "code",
   "execution_count": 44,
   "id": "b69f883e-f591-48a7-a5ec-1209f519a0ce",
   "metadata": {},
   "outputs": [
    {
     "name": "stdout",
     "output_type": "stream",
     "text": [
      "86.32810088903948\n"
     ]
    }
   ],
   "source": [
    "Minor_Axis_Length_mean = df['Minor_Axis_Length'].mean()\n",
    "print(Minor_Axis_Length_mean)"
   ]
  },
  {
   "cell_type": "code",
   "execution_count": 45,
   "id": "2d637fd1-3999-47eb-987e-d420761a3812",
   "metadata": {},
   "outputs": [
    {
     "name": "stdout",
     "output_type": "stream",
     "text": [
      "0.8868849006150001\n"
     ]
    }
   ],
   "source": [
    "Eccentricity_mean = df['Eccentricity'].mean()\n",
    "print(Eccentricity_mean)"
   ]
  },
  {
   "cell_type": "code",
   "execution_count": 46,
   "id": "74b09c97-cda8-4665-96cb-81629d7a6769",
   "metadata": {},
   "outputs": [
    {
     "name": "stdout",
     "output_type": "stream",
     "text": [
      "12957.439473684211\n"
     ]
    }
   ],
   "source": [
    "Convex_Area_mean = df['Convex_Area'].mean()\n",
    "print(Convex_Area_mean)"
   ]
  },
  {
   "cell_type": "code",
   "execution_count": 47,
   "id": "77beb6b8-e570-47c6-938d-5032e7fd3346",
   "metadata": {},
   "outputs": [
    {
     "name": "stdout",
     "output_type": "stream",
     "text": [
      "0.6619449278434211\n"
     ]
    }
   ],
   "source": [
    "Extent_mean = df['Extent'].mean()\n",
    "print(Extent_mean)"
   ]
  },
  {
   "cell_type": "code",
   "execution_count": 48,
   "id": "fa327cfa-f3f2-46ba-a71c-a0496649c34b",
   "metadata": {},
   "outputs": [
    {
     "name": "stdout",
     "output_type": "stream",
     "text": [
      "1731.227143856823\n"
     ]
    }
   ],
   "source": [
    "std_Area = df['Area'].std()\n",
    "print(std_Area)"
   ]
  },
  {
   "cell_type": "code",
   "execution_count": 49,
   "id": "3f527652-880a-4444-b397-7235202462b8",
   "metadata": {},
   "outputs": [
    {
     "name": "stdout",
     "output_type": "stream",
     "text": [
      "35.582385195265125\n"
     ]
    }
   ],
   "source": [
    "Perimeter_std = df['Perimeter'].std()\n",
    "print(Perimeter_std)"
   ]
  },
  {
   "cell_type": "code",
   "execution_count": 50,
   "id": "8d52120c-fdb4-4794-a11d-adc4489c4c6c",
   "metadata": {},
   "outputs": [
    {
     "name": "stdout",
     "output_type": "stream",
     "text": [
      "17.445782197286185\n"
     ]
    }
   ],
   "source": [
    "Major_Axis_Length_std = df['Major_Axis_Length'].std()\n",
    "print(Major_Axis_Length_std)"
   ]
  },
  {
   "cell_type": "code",
   "execution_count": 51,
   "id": "3fa4599c-cc16-4f7c-81e6-9b2f02af3648",
   "metadata": {},
   "outputs": [
    {
     "name": "stdout",
     "output_type": "stream",
     "text": [
      "5.720103144258834\n"
     ]
    }
   ],
   "source": [
    "Minor_Axis_Length_std = df['Minor_Axis_Length'].std()\n",
    "print(Minor_Axis_Length_std)"
   ]
  },
  {
   "cell_type": "code",
   "execution_count": 52,
   "id": "b406a91b-7127-4b2f-b675-57afe0aaade3",
   "metadata": {},
   "outputs": [
    {
     "name": "stdout",
     "output_type": "stream",
     "text": [
      "0.020796941450466472\n"
     ]
    }
   ],
   "source": [
    "Eccentricity_std = df['Eccentricity'].std()\n",
    "print(Eccentricity_std)"
   ]
  },
  {
   "cell_type": "code",
   "execution_count": 53,
   "id": "08144a42-16f9-4483-8aa2-875ae57ddfb9",
   "metadata": {},
   "outputs": [
    {
     "name": "stdout",
     "output_type": "stream",
     "text": [
      "1775.7933570309413\n"
     ]
    }
   ],
   "source": [
    "Convex_Area_std = df['Convex_Area'].std()\n",
    "print(Convex_Area_std)"
   ]
  },
  {
   "cell_type": "code",
   "execution_count": 54,
   "id": "e8e9d361-8bd7-4b3b-9cbd-c316df9e5418",
   "metadata": {},
   "outputs": [
    {
     "name": "stdout",
     "output_type": "stream",
     "text": [
      "0.07726881870211956\n"
     ]
    }
   ],
   "source": [
    "Extent_std = df['Extent'].std()\n",
    "print(Extent_std)"
   ]
  },
  {
   "cell_type": "code",
   "execution_count": 55,
   "id": "1a80ea38-1274-47ce-9890-0a166026b4b1",
   "metadata": {},
   "outputs": [],
   "source": [
    "df['Area'] = (df['Area'] - df['Area'].mean()) / df['Area'].std()"
   ]
  },
  {
   "cell_type": "code",
   "execution_count": 56,
   "id": "285677f2-68b1-45b3-ad5e-d34875f7d9b9",
   "metadata": {},
   "outputs": [
    {
     "data": {
      "text/plain": [
       "-4.786814219857517e-16"
      ]
     },
     "execution_count": 56,
     "metadata": {},
     "output_type": "execute_result"
    }
   ],
   "source": [
    "df['Area'].mean()"
   ]
  },
  {
   "cell_type": "code",
   "execution_count": 57,
   "id": "99b2ac2a-06c9-4dfe-b4fb-974432351359",
   "metadata": {},
   "outputs": [
    {
     "data": {
      "text/plain": [
       "0.9999999999999989"
      ]
     },
     "execution_count": 57,
     "metadata": {},
     "output_type": "execute_result"
    }
   ],
   "source": [
    "df['Area'].std()"
   ]
  },
  {
   "cell_type": "code",
   "execution_count": 58,
   "id": "b7cbbd3e-a2bf-45fa-bfa3-dbf747055ba5",
   "metadata": {},
   "outputs": [],
   "source": [
    "df['Perimeter'] = (df['Perimeter'] - df['Perimeter'].mean()) / df['Perimeter'].std() "
   ]
  },
  {
   "cell_type": "code",
   "execution_count": 59,
   "id": "7831335e-ccc3-4e67-ba89-e3835c6e7259",
   "metadata": {},
   "outputs": [
    {
     "data": {
      "text/plain": [
       "5.0859901085986115e-16"
      ]
     },
     "execution_count": 59,
     "metadata": {},
     "output_type": "execute_result"
    }
   ],
   "source": [
    "df['Perimeter'].mean()"
   ]
  },
  {
   "cell_type": "code",
   "execution_count": 60,
   "id": "c61cbc38-dcc8-4341-b2a8-0d7ed8237712",
   "metadata": {},
   "outputs": [
    {
     "data": {
      "text/plain": [
       "1.0000000000000009"
      ]
     },
     "execution_count": 60,
     "metadata": {},
     "output_type": "execute_result"
    }
   ],
   "source": [
    "df['Perimeter'].std()"
   ]
  },
  {
   "cell_type": "code",
   "execution_count": 61,
   "id": "10e19c7a-6d89-46ae-9ae0-c33da28c038a",
   "metadata": {},
   "outputs": [],
   "source": [
    "df['Major_Axis_Length'] = (df['Major_Axis_Length'] - df['Major_Axis_Length'].mean()) / df['Major_Axis_Length'].std() "
   ]
  },
  {
   "cell_type": "code",
   "execution_count": 62,
   "id": "8ed1d109-70d5-4405-acd9-42bea88d7fd3",
   "metadata": {},
   "outputs": [
    {
     "data": {
      "text/plain": [
       "-5.983517774821896e-16"
      ]
     },
     "execution_count": 62,
     "metadata": {},
     "output_type": "execute_result"
    }
   ],
   "source": [
    "df['Major_Axis_Length'].mean()"
   ]
  },
  {
   "cell_type": "code",
   "execution_count": 63,
   "id": "bb3e11d1-7262-49ca-8ce5-aa757261fbfd",
   "metadata": {},
   "outputs": [
    {
     "data": {
      "text/plain": [
       "0.9999999999999992"
      ]
     },
     "execution_count": 63,
     "metadata": {},
     "output_type": "execute_result"
    }
   ],
   "source": [
    "df['Major_Axis_Length'].std()"
   ]
  },
  {
   "cell_type": "code",
   "execution_count": 64,
   "id": "88a2c1b0-7316-42cc-898e-e5012f6bcb1f",
   "metadata": {},
   "outputs": [],
   "source": [
    "df['Minor_Axis_Length'] = (df['Minor_Axis_Length'] - df['Minor_Axis_Length'].mean()) / df['Minor_Axis_Length'].std() "
   ]
  },
  {
   "cell_type": "code",
   "execution_count": 65,
   "id": "317861b9-8c96-4160-8358-b36bb9ecf1bf",
   "metadata": {},
   "outputs": [
    {
     "data": {
      "text/plain": [
       "-3.5901106648931377e-16"
      ]
     },
     "execution_count": 65,
     "metadata": {},
     "output_type": "execute_result"
    }
   ],
   "source": [
    "df['Minor_Axis_Length'].mean()"
   ]
  },
  {
   "cell_type": "code",
   "execution_count": 66,
   "id": "1841f227-cbb5-4c73-a406-ddfbc1d21426",
   "metadata": {},
   "outputs": [
    {
     "data": {
      "text/plain": [
       "1.0000000000000009"
      ]
     },
     "execution_count": 66,
     "metadata": {},
     "output_type": "execute_result"
    }
   ],
   "source": [
    "df['Minor_Axis_Length'].std()"
   ]
  },
  {
   "cell_type": "code",
   "execution_count": 67,
   "id": "f189bdad-5c99-411c-87a7-29fefcc35ccf",
   "metadata": {},
   "outputs": [],
   "source": [
    "df['Eccentricity'] = (df['Eccentricity'] - df['Eccentricity'].mean()) / df['Eccentricity'].std() "
   ]
  },
  {
   "cell_type": "code",
   "execution_count": 68,
   "id": "964e0a88-dd63-40d3-8fd2-85b328fd61f7",
   "metadata": {},
   "outputs": [
    {
     "data": {
      "text/plain": [
       "-6.62674593561525e-15"
      ]
     },
     "execution_count": 68,
     "metadata": {},
     "output_type": "execute_result"
    }
   ],
   "source": [
    "df['Eccentricity'].mean()"
   ]
  },
  {
   "cell_type": "code",
   "execution_count": 69,
   "id": "dab9607a-ae1d-419b-8777-9aae1d077c8f",
   "metadata": {},
   "outputs": [
    {
     "data": {
      "text/plain": [
       "0.9999999999999993"
      ]
     },
     "execution_count": 69,
     "metadata": {},
     "output_type": "execute_result"
    }
   ],
   "source": [
    "df['Eccentricity'].std()"
   ]
  },
  {
   "cell_type": "code",
   "execution_count": 70,
   "id": "2fc41f6c-29fa-41ad-ab66-709266b676cc",
   "metadata": {},
   "outputs": [],
   "source": [
    "df['Convex_Area'] = (df['Convex_Area'] - df['Convex_Area'].mean()) / df['Convex_Area'].std() "
   ]
  },
  {
   "cell_type": "code",
   "execution_count": 71,
   "id": "acb3b4fe-c5c5-460d-afb5-29529a904bc9",
   "metadata": {},
   "outputs": [
    {
     "data": {
      "text/plain": [
       "-4.786814219857517e-16"
      ]
     },
     "execution_count": 71,
     "metadata": {},
     "output_type": "execute_result"
    }
   ],
   "source": [
    "df['Convex_Area'].mean()"
   ]
  },
  {
   "cell_type": "code",
   "execution_count": 72,
   "id": "ffa69aca-be08-4948-952e-4d7f736ed28b",
   "metadata": {},
   "outputs": [
    {
     "data": {
      "text/plain": [
       "0.999999999999999"
      ]
     },
     "execution_count": 72,
     "metadata": {},
     "output_type": "execute_result"
    }
   ],
   "source": [
    "df['Convex_Area'].std()"
   ]
  },
  {
   "cell_type": "code",
   "execution_count": 73,
   "id": "d206aa84-f251-42f3-a75a-cbda47a9f0c4",
   "metadata": {},
   "outputs": [],
   "source": [
    "df['Extent'] = (df['Extent'] - df['Extent'].mean()) / df['Extent'].std() "
   ]
  },
  {
   "cell_type": "code",
   "execution_count": 74,
   "id": "21b062a7-7bf4-4090-96b5-217659b11fb8",
   "metadata": {},
   "outputs": [
    {
     "data": {
      "text/plain": [
       "-2.505598068206669e-16"
      ]
     },
     "execution_count": 74,
     "metadata": {},
     "output_type": "execute_result"
    }
   ],
   "source": [
    "df['Extent'].mean()"
   ]
  },
  {
   "cell_type": "code",
   "execution_count": 75,
   "id": "de27df8f-1872-461f-8f86-9c7a85c06157",
   "metadata": {},
   "outputs": [
    {
     "data": {
      "text/plain": [
       "1.0000000000000009"
      ]
     },
     "execution_count": 75,
     "metadata": {},
     "output_type": "execute_result"
    }
   ],
   "source": [
    "df['Extent'].std()"
   ]
  },
  {
   "cell_type": "code",
   "execution_count": 76,
   "id": "2c14f826-2e2c-42d1-a809-fdec1437b90e",
   "metadata": {},
   "outputs": [
    {
     "name": "stdout",
     "output_type": "stream",
     "text": [
      "enter your Area : 413\n"
     ]
    }
   ],
   "source": [
    "Area_input=float( input('enter your Area :'))"
   ]
  },
  {
   "cell_type": "code",
   "execution_count": 77,
   "id": "3c64b7b9-ed31-4550-a465-06f32f6f7cb9",
   "metadata": {},
   "outputs": [
    {
     "name": "stdout",
     "output_type": "stream",
     "text": [
      "enter your Perimeter: 183.05\n"
     ]
    }
   ],
   "source": [
    "Perimeter_input = float(input(\"enter your Perimeter:\"))"
   ]
  },
  {
   "cell_type": "code",
   "execution_count": 78,
   "id": "507000ff-d93f-445b-97bb-dbe0ebe2391b",
   "metadata": {},
   "outputs": [
    {
     "name": "stdout",
     "output_type": "stream",
     "text": [
      "enter your Major_Axis_Length : 64.5\n"
     ]
    }
   ],
   "source": [
    "Major_Axis_Length_input = float(input(\"enter your Major_Axis_Length :\"))"
   ]
  },
  {
   "cell_type": "code",
   "execution_count": 79,
   "id": "3f00e0bb-12f2-4f9a-94ad-ec26b05bf3d7",
   "metadata": {},
   "outputs": [
    {
     "name": "stdout",
     "output_type": "stream",
     "text": [
      "enter your Minor_Axis_Length : 64.5\n"
     ]
    }
   ],
   "source": [
    "Minor_Axis_Length_input = float(input(\"enter your Minor_Axis_Length :\"))"
   ]
  },
  {
   "cell_type": "code",
   "execution_count": 80,
   "id": "4a24a44d-0233-4d9e-bcaa-c24abc997346",
   "metadata": {},
   "outputs": [
    {
     "name": "stdout",
     "output_type": "stream",
     "text": [
      "enter your Eccentricity : 0.92\n"
     ]
    }
   ],
   "source": [
    "Eccentricity_input = float(input(\"enter your Eccentricity :\"))"
   ]
  },
  {
   "cell_type": "code",
   "execution_count": 81,
   "id": "28857212-53b8-4a11-a7c3-a2b21db97e51",
   "metadata": {},
   "outputs": [
    {
     "name": "stdout",
     "output_type": "stream",
     "text": [
      "enter your Convex_Area : 9442\n"
     ]
    }
   ],
   "source": [
    "Convex_Area_input = float(input(\"enter your Convex_Area :\"))"
   ]
  },
  {
   "cell_type": "code",
   "execution_count": 82,
   "id": "30fce95d-ebd6-4aff-a537-74cff459d42a",
   "metadata": {},
   "outputs": [
    {
     "name": "stdout",
     "output_type": "stream",
     "text": [
      "enter your Extent 0.5\n"
     ]
    }
   ],
   "source": [
    "Extent_input = float(input(\"enter your Extent\"))"
   ]
  },
  {
   "cell_type": "code",
   "execution_count": 84,
   "id": "2caa29f0-5bef-4f7c-b4ac-6f3a97f62ff1",
   "metadata": {},
   "outputs": [
    {
     "name": "stdout",
     "output_type": "stream",
     "text": [
      "-7.081405136799068\n"
     ]
    }
   ],
   "source": [
    "Area_input = ( Area_input - Area_mean) / std_Area\n",
    "print(Area_input)"
   ]
  },
  {
   "cell_type": "code",
   "execution_count": 85,
   "id": "158612e1-92de-41eb-a2da-a4e9eb67d749",
   "metadata": {},
   "outputs": [
    {
     "name": "stdout",
     "output_type": "stream",
     "text": [
      "-7.624096938859842\n"
     ]
    }
   ],
   "source": [
    "Perimeter_input = ( Perimeter_input - Perimeter_mean) / Perimeter_std\n",
    "print(Perimeter_input)"
   ]
  },
  {
   "cell_type": "code",
   "execution_count": 86,
   "id": "e4bf5f25-f694-4f65-84a7-b43859883b4d",
   "metadata": {},
   "outputs": [
    {
     "name": "stdout",
     "output_type": "stream",
     "text": [
      "-7.12596338349797\n"
     ]
    }
   ],
   "source": [
    "Major_Axis_Length_input = ( Major_Axis_Length_input- Major_Axis_Length_mean)/ Major_Axis_Length_std\n",
    "print(Major_Axis_Length_input)"
   ]
  },
  {
   "cell_type": "code",
   "execution_count": 87,
   "id": "b4847b52-a8b1-4bf5-ae1b-7f257cda606b",
   "metadata": {},
   "outputs": [
    {
     "name": "stdout",
     "output_type": "stream",
     "text": [
      "-3.816032742512336\n"
     ]
    }
   ],
   "source": [
    "Minor_Axis_Length_input = (Minor_Axis_Length_input -Minor_Axis_Length_mean) /Minor_Axis_Length_std\n",
    "print(Minor_Axis_Length_input)"
   ]
  },
  {
   "cell_type": "code",
   "execution_count": 88,
   "id": "dfe61a3b-8cca-4014-bf3d-6ba928db9dfb",
   "metadata": {},
   "outputs": [
    {
     "name": "stdout",
     "output_type": "stream",
     "text": [
      "1.5923062275225637\n"
     ]
    }
   ],
   "source": [
    "Eccentricity_input  = ( Eccentricity_input - Eccentricity_mean) / Eccentricity_std\n",
    "print(Eccentricity_input)"
   ]
  },
  {
   "cell_type": "code",
   "execution_count": 89,
   "id": "10dbb8f9-32c8-4bf1-9b05-8bd3ebed7339",
   "metadata": {},
   "outputs": [
    {
     "name": "stdout",
     "output_type": "stream",
     "text": [
      "-1.9796444556825532\n"
     ]
    }
   ],
   "source": [
    "Convex_Area_input  = ( Convex_Area_input - Convex_Area_mean) / Convex_Area_std\n",
    "print(Convex_Area_input)"
   ]
  },
  {
   "cell_type": "code",
   "execution_count": 90,
   "id": "dd65349e-1c4a-40d5-a3d5-5057765da15b",
   "metadata": {},
   "outputs": [
    {
     "name": "stdout",
     "output_type": "stream",
     "text": [
      "-2.095863901682488\n"
     ]
    }
   ],
   "source": [
    "Extent_input = ( Extent_input - Extent_mean) /Extent_std\n",
    "print(Extent_input)"
   ]
  },
  {
   "cell_type": "code",
   "execution_count": 91,
   "id": "3cd0ca4e-16b0-4c24-a263-2dfc695d5292",
   "metadata": {},
   "outputs": [],
   "source": [
    "df['distance']=np.sqrt((df['Area']-Area_input)**2+(df['Perimeter']-Perimeter_input)**2+(df['Major_Axis_Length']-Major_Axis_Length_input)**2+(df['Minor_Axis_Length']-Minor_Axis_Length_input)**2+(df['Eccentricity']-Eccentricity_input)**2+(df['Convex_Area']-Convex_Area_input)**2+(df['Extent']-Extent_input)**2)"
   ]
  },
  {
   "cell_type": "code",
   "execution_count": 92,
   "id": "254479bd-69bd-4fc1-aae6-d92684c6370b",
   "metadata": {},
   "outputs": [
    {
     "name": "stdout",
     "output_type": "stream",
     "text": [
      "          Area  Perimeter  Major_Axis_Length  Minor_Axis_Length  Eccentricity  \\\n",
      "0    -2.958318  -2.396398          -1.456465          -4.684478      2.134477   \n",
      "1    -2.383581  -1.847896          -0.934211          -4.017995      2.080478   \n",
      "2    -2.795428  -2.281369          -1.507618          -3.979491      1.608443   \n",
      "3    -1.952673  -1.130182          -0.296822          -3.751161      2.338968   \n",
      "4    -2.731889  -2.576009          -1.944979          -3.565882      0.865141   \n",
      "...        ...        ...                ...                ...           ...   \n",
      "3812  3.258082   2.365340           1.928618           3.471379     -0.391920   \n",
      "3813  2.733020   1.897890           1.275094           3.498140     -1.109605   \n",
      "3814  3.604657   2.456621           2.196375           3.604875     -0.224813   \n",
      "3815  3.047248   2.039899           1.448821           3.708735     -1.067463   \n",
      "3826 -1.775920  -1.611290          -0.963626          -2.455280      0.987136   \n",
      "\n",
      "      Convex_Area    Extent     Class   distance  \n",
      "0       -2.947662  1.223219  Osmancik   9.459038  \n",
      "1       -2.405933  0.951369  Osmancik  10.174394  \n",
      "2       -2.783229  1.395226  Osmancik   9.557227  \n",
      "3       -1.979644 -2.081906  Osmancik  10.755180  \n",
      "4       -2.746626 -0.689617  Osmancik   8.625614  \n",
      "...           ...       ...       ...        ...  \n",
      "3812     3.247315 -0.485637    Cammeo  19.381350  \n",
      "3813     2.692633  0.293946    Cammeo  18.598596  \n",
      "3814     3.458488  1.840060    Cammeo  20.153296  \n",
      "3815     3.020937  0.057264    Cammeo  19.048561  \n",
      "3826    -1.797191  1.745856  Osmancik  10.921831  \n",
      "\n",
      "[3800 rows x 9 columns]\n"
     ]
    }
   ],
   "source": [
    "print(df)"
   ]
  },
  {
   "cell_type": "code",
   "execution_count": 93,
   "id": "cf77a6dd-234d-48d5-8365-90eeb66308fe",
   "metadata": {},
   "outputs": [],
   "source": [
    "df=df.sort_values('distance')\n",
    "df=df[['distance','Class']]"
   ]
  },
  {
   "cell_type": "code",
   "execution_count": 96,
   "id": "8a453129-8c60-42c4-a0eb-16e927553e22",
   "metadata": {},
   "outputs": [
    {
     "name": "stdout",
     "output_type": "stream",
     "text": [
      "enter k 60\n"
     ]
    },
    {
     "name": "stdout",
     "output_type": "stream",
     "text": [
      "      distance     Class\n",
      "4     8.625614  Osmancik\n",
      "26    8.890833  Osmancik\n",
      "20    9.133717  Osmancik\n",
      "42    9.147805  Osmancik\n",
      "73    9.158709  Osmancik\n",
      "50    9.177236  Osmancik\n",
      "80    9.313939  Osmancik\n",
      "43    9.412276  Osmancik\n",
      "14    9.457989  Osmancik\n",
      "0     9.459038  Osmancik\n",
      "60    9.462279  Osmancik\n",
      "10    9.523603  Osmancik\n",
      "180   9.546815  Osmancik\n",
      "2     9.557227  Osmancik\n",
      "27    9.578982  Osmancik\n",
      "58    9.612031  Osmancik\n",
      "33    9.658099  Osmancik\n",
      "101   9.664225  Osmancik\n",
      "105   9.704061  Osmancik\n",
      "81    9.709659  Osmancik\n",
      "77    9.755967  Osmancik\n",
      "47    9.778808  Osmancik\n",
      "57    9.790433  Osmancik\n",
      "136   9.822872  Osmancik\n",
      "18    9.837659  Osmancik\n",
      "22    9.859579  Osmancik\n",
      "82    9.903268  Osmancik\n",
      "85    9.908645  Osmancik\n",
      "72    9.915972  Osmancik\n",
      "217   9.926005  Osmancik\n",
      "109   9.927475  Osmancik\n",
      "168   9.960010  Osmancik\n",
      "121   9.962324  Osmancik\n",
      "173   9.969199  Osmancik\n",
      "89    9.971439  Osmancik\n",
      "11    9.987526  Osmancik\n",
      "106   9.993260  Osmancik\n",
      "7    10.003365  Osmancik\n",
      "396  10.010155  Osmancik\n",
      "37   10.031290  Osmancik\n",
      "158  10.044687  Osmancik\n",
      "153  10.136551  Osmancik\n",
      "97   10.142513  Osmancik\n",
      "178  10.156265  Osmancik\n",
      "1    10.174394  Osmancik\n",
      "147  10.195722  Osmancik\n",
      "74   10.196194  Osmancik\n",
      "66   10.208527  Osmancik\n",
      "444  10.250524  Osmancik\n",
      "104  10.260062  Osmancik\n",
      "9    10.261345  Osmancik\n",
      "140  10.282550  Osmancik\n",
      "119  10.296253  Osmancik\n",
      "16   10.296302  Osmancik\n",
      "192  10.298758  Osmancik\n",
      "325  10.334752  Osmancik\n",
      "111  10.338597  Osmancik\n",
      "331  10.340908  Osmancik\n",
      "92   10.342119  Osmancik\n",
      "100  10.358119  Osmancik\n"
     ]
    }
   ],
   "source": [
    "k =int(input('enter k'))\n",
    "df1=df.head(k)\n",
    "print(df1.head(k))"
   ]
  },
  {
   "cell_type": "code",
   "execution_count": 97,
   "id": "286c5c63-66a6-464e-bced-d34dd6ff44d7",
   "metadata": {},
   "outputs": [
    {
     "name": "stdout",
     "output_type": "stream",
     "text": [
      "Osmancik\n"
     ]
    }
   ],
   "source": [
    "mode_values=df1['Class'].value_counts().idxmax()\n",
    "print(mode_values)"
   ]
  }
 ],
 "metadata": {
  "kernelspec": {
   "display_name": "Python 3 (ipykernel)",
   "language": "python",
   "name": "python3"
  },
  "language_info": {
   "codemirror_mode": {
    "name": "ipython",
    "version": 3
   },
   "file_extension": ".py",
   "mimetype": "text/x-python",
   "name": "python",
   "nbconvert_exporter": "python",
   "pygments_lexer": "ipython3",
   "version": "3.11.7"
  }
 },
 "nbformat": 4,
 "nbformat_minor": 5
}
